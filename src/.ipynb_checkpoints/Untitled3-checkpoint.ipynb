{
 "cells": [
  {
   "cell_type": "code",
   "execution_count": 31,
   "metadata": {},
   "outputs": [
    {
     "name": "stderr",
     "output_type": "stream",
     "text": [
      "/opt/anaconda/lib/python3.6/site-packages/ipykernel_launcher.py:12: SettingWithCopyWarning: \n",
      "A value is trying to be set on a copy of a slice from a DataFrame.\n",
      "Try using .loc[row_indexer,col_indexer] = value instead\n",
      "\n",
      "See the caveats in the documentation: http://pandas.pydata.org/pandas-docs/stable/indexing.html#indexing-view-versus-copy\n",
      "  if sys.path[0] == '':\n",
      "/opt/anaconda/lib/python3.6/site-packages/ipykernel_launcher.py:31: SettingWithCopyWarning: \n",
      "A value is trying to be set on a copy of a slice from a DataFrame.\n",
      "Try using .loc[row_indexer,col_indexer] = value instead\n",
      "\n",
      "See the caveats in the documentation: http://pandas.pydata.org/pandas-docs/stable/indexing.html#indexing-view-versus-copy\n"
     ]
    },
    {
     "name": "stdout",
     "output_type": "stream",
     "text": [
      "n_jobs = -1, but RGFClassifier uses one CPU because classes_ is 2\n",
      "\"train\": \n",
      "   algorithm=RGF\n",
      "   train_x_fn=/tmp/rgf/0c194d44-249e-44d2-8013-d941a71c4b242.train.data.x\n",
      "   train_y_fn=/tmp/rgf/0c194d44-249e-44d2-8013-d941a71c4b242.train.data.y\n",
      "   Log:ON\n",
      "   model_fn_prefix=/tmp/rgf/0c194d44-249e-44d2-8013-d941a71c4b242.model\n",
      "--------------------\n",
      "Sat Apr 14 09:35:41 2018: Reading training data ... \n",
      "Sat Apr 14 09:35:41 2018: Start ... #train=10506\n",
      "--------------------\n",
      "Forest-level: \n",
      "   loss=Log\n",
      "   max_leaf_forest=1400\n",
      "   max_tree=700\n",
      "   opt_interval=100\n",
      "   test_interval=100\n",
      "   num_tree_search=1\n",
      "   Verbose:ON\n",
      "   memory_policy=Generous\n",
      "-------------\n",
      "Training data: 5x10506, nonzero_ratio=1; managed as dense data.\n",
      "-------------\n",
      "Optimization: \n",
      "   loss=Log\n",
      "   num_iteration_opt=7\n",
      "   reg_L2=0.2\n",
      "   opt_stepsize=0.7\n",
      "   max_delta=1\n",
      "Tree-level: min_pop=8\n",
      "Node split: reg_L2=0.07\n",
      "--------------------\n",
      "Sat Apr 14 09:35:41 2018: Calling optimizer with 37 trees and 101 leaves\n",
      "Sat Apr 14 09:35:41 2018: Writing model: seq#=1\n",
      "Sat Apr 14 09:35:41 2018: Calling optimizer with 69 trees and 200 leaves\n",
      "Sat Apr 14 09:35:42 2018: Writing model: seq#=2\n",
      "Sat Apr 14 09:35:42 2018: Calling optimizer with 100 trees and 300 leaves\n",
      "Sat Apr 14 09:35:42 2018: Writing model: seq#=3\n",
      "Sat Apr 14 09:35:42 2018: Calling optimizer with 130 trees and 400 leaves\n",
      "Sat Apr 14 09:35:42 2018: Writing model: seq#=4\n",
      "Sat Apr 14 09:35:42 2018: Calling optimizer with 158 trees and 500 leaves\n",
      "Sat Apr 14 09:35:43 2018: Writing model: seq#=5\n",
      "Sat Apr 14 09:35:43 2018: Calling optimizer with 187 trees and 600 leaves\n",
      "Sat Apr 14 09:35:43 2018: Writing model: seq#=6\n",
      "Sat Apr 14 09:35:43 2018: Calling optimizer with 214 trees and 700 leaves\n",
      "Sat Apr 14 09:35:44 2018: Writing model: seq#=7\n",
      "Sat Apr 14 09:35:44 2018: Calling optimizer with 241 trees and 801 leaves\n",
      "Sat Apr 14 09:35:44 2018: Writing model: seq#=8\n",
      "Sat Apr 14 09:35:44 2018: Calling optimizer with 267 trees and 900 leaves\n",
      "Sat Apr 14 09:35:45 2018: Writing model: seq#=9\n",
      "Sat Apr 14 09:35:45 2018: Calling optimizer with 292 trees and 1000 leaves\n",
      "Sat Apr 14 09:35:46 2018: Writing model: seq#=10\n",
      "Sat Apr 14 09:35:46 2018: Calling optimizer with 317 trees and 1100 leaves\n",
      "Sat Apr 14 09:35:46 2018: Writing model: seq#=11\n",
      "Sat Apr 14 09:35:46 2018: Calling optimizer with 341 trees and 1200 leaves\n",
      "Sat Apr 14 09:35:47 2018: Writing model: seq#=12\n",
      "Sat Apr 14 09:35:47 2018: Calling optimizer with 365 trees and 1300 leaves\n",
      "Sat Apr 14 09:35:48 2018: Writing model: seq#=13\n",
      "Sat Apr 14 09:35:48 2018: AzRgforest: #leaf reached max\n",
      "Sat Apr 14 09:35:48 2018: Calling optimizer with 390 trees and 1400 leaves\n",
      "Sat Apr 14 09:35:49 2018: Writing model: seq#=14\n",
      "\n",
      "Generated 14 model file(s): \n",
      "/tmp/rgf/0c194d44-249e-44d2-8013-d941a71c4b242.model-01\n",
      "/tmp/rgf/0c194d44-249e-44d2-8013-d941a71c4b242.model-02\n",
      "/tmp/rgf/0c194d44-249e-44d2-8013-d941a71c4b242.model-03\n",
      "/tmp/rgf/0c194d44-249e-44d2-8013-d941a71c4b242.model-04\n",
      "/tmp/rgf/0c194d44-249e-44d2-8013-d941a71c4b242.model-05\n",
      "/tmp/rgf/0c194d44-249e-44d2-8013-d941a71c4b242.model-06\n",
      "/tmp/rgf/0c194d44-249e-44d2-8013-d941a71c4b242.model-07\n",
      "/tmp/rgf/0c194d44-249e-44d2-8013-d941a71c4b242.model-08\n",
      "/tmp/rgf/0c194d44-249e-44d2-8013-d941a71c4b242.model-09\n",
      "/tmp/rgf/0c194d44-249e-44d2-8013-d941a71c4b242.model-10\n",
      "/tmp/rgf/0c194d44-249e-44d2-8013-d941a71c4b242.model-11\n",
      "/tmp/rgf/0c194d44-249e-44d2-8013-d941a71c4b242.model-12\n",
      "/tmp/rgf/0c194d44-249e-44d2-8013-d941a71c4b242.model-13\n",
      "/tmp/rgf/0c194d44-249e-44d2-8013-d941a71c4b242.model-14\n",
      "\n",
      "Sat Apr 14 09:35:49 2018: Done ... \n",
      "elapsed: 7.6292\n",
      "\n",
      "None\n",
      "done\n"
     ]
    }
   ],
   "source": [
    "from sklearn import datasets\n",
    "from sklearn.utils.validation import check_random_state\n",
    "from sklearn.model_selection import StratifiedKFold, cross_val_score\n",
    "from rgf.sklearn import RGFClassifier\n",
    "import numpy as np\n",
    "import pandas as pd\n",
    "\n",
    "\n",
    "def get_set(filename):\n",
    "    train_set=pd.read_csv(filename, header=0)\n",
    "\n",
    "\n",
    "    train = datasets.load_iris()\n",
    "    train['data'] =np.array([pd.Categorical(train_set_part['Species']).codes, \n",
    "                    train_set['Latitude'], \n",
    "                    train_set['Longitude'], \n",
    "                    train_set['AddressAccuracy'], \n",
    "                    train_set['NumMosquitos']]).transpose()\n",
    "\n",
    "    train['DESCR'] = ''\n",
    "    train['feature_names'] = ['Species', 'Latitude', 'Latitude', 'AddressAccuracy', 'NumMosquitos']\n",
    "    train['target'] = np.array(train_set['WnvPresent'])\n",
    "    train['target_names'] = train['target']\n",
    "    return train\n",
    "\n",
    "\n",
    "train = get_set('train.csv');\n",
    "perm = rng.permutation(check_random_state(0).target.size)\n",
    "\n",
    "\n",
    "\n",
    "\n",
    "\n",
    "#rng = check_random_state(0)\n",
    "#perm = rng.permutation(iris.target.size)\n",
    "#iris.data = iris.data[perm]\n",
    "#iris.target = iris.target[perm]\n",
    "\n",
    "rgf = RGFClassifier(max_leaf=1400,\n",
    "                    algorithm=\"RGF\",\n",
    "                    test_interval=100,\n",
    "                    loss=\"Log\",\n",
    "                    l2=0.2,\n",
    "                    sl2=0.07,\n",
    "                    n_iter=7,\n",
    "                    n_tree_search=1,\n",
    "                    min_samples_leaf=8,\n",
    "                    learning_rate=0.7,\n",
    "                    verbose=True)\n",
    "\n",
    "n_folds = 3\n",
    "\n",
    "\n",
    "\n",
    "fit = rgf.fit(train.data, train.target)\n",
    "\n",
    "'''rgf_scores = cross_val_score(rgf,\n",
    "                             train.data,\n",
    "                             train.target,\n",
    "                             cv=StratifiedKFold(n_folds))\n",
    "'''\n",
    "#rgf_score = sum(rgf_scores)/n_folds\n",
    "#print('RGF Classfier score: {0:.5f}'.format(rgf_score))\n",
    "print('done')"
   ]
  },
  {
   "cell_type": "code",
   "execution_count": 3,
   "metadata": {},
   "outputs": [
    {
     "data": {
      "text/plain": [
       "{'DESCR': '',\n",
       " 'data': array([[  1.      ,  41.95469 , -87.800991,   9.      ,   1.      ],\n",
       "        [  2.      ,  41.95469 , -87.800991,   9.      ,   1.      ],\n",
       "        [  2.      ,  41.994991, -87.769279,   9.      ,   1.      ],\n",
       "        ...,\n",
       "        [  2.      ,  41.912563, -87.668055,   9.      ,   2.      ],\n",
       "        [  1.      ,  42.009876, -87.807277,   9.      ,   2.      ],\n",
       "        [  2.      ,  42.009876, -87.807277,   9.      ,   2.      ]]),\n",
       " 'feature_names': ['Species',\n",
       "  'Latitude',\n",
       "  'Latitude',\n",
       "  'AddressAccuracy',\n",
       "  'NumMosquitos'],\n",
       " 'target': array([0, 0, 0, ..., 0, 0, 0]),\n",
       " 'target_names': array([0, 0, 0, ..., 0, 0, 0])}"
      ]
     },
     "execution_count": 3,
     "metadata": {},
     "output_type": "execute_result"
    }
   ],
   "source": [
    "train"
   ]
  },
  {
   "cell_type": "code",
   "execution_count": 32,
   "metadata": {},
   "outputs": [
    {
     "name": "stdout",
     "output_type": "stream",
     "text": [
      "\"predict\": \n",
      "   model_fn=/tmp/rgf/0c194d44-249e-44d2-8013-d941a71c4b242.model-14\n",
      "   test_x_fn=/tmp/rgf/0c194d44-249e-44d2-8013-d941a71c4b242.test.data.x\n",
      "   prediction_fn=/tmp/rgf/0c194d44-249e-44d2-8013-d941a71c4b242.predictions.txt\n",
      "   Log:ON\n",
      "--------------------\n",
      "Sat Apr 14 09:35:54 2018: Reading test data ... \n",
      "Sat Apr 14 09:35:54 2018: Predicting ... \n",
      "elapsed: 0.034916\n",
      "/tmp/rgf/0c194d44-249e-44d2-8013-d941a71c4b242.predictions.txt: /tmp/rgf/0c194d44-249e-44d2-8013-d941a71c4b242.model-14,#leaf=1400,#tree=390\n",
      "Sat Apr 14 09:35:54 2018: Done ... \n",
      "\n",
      "None\n",
      "done\n"
     ]
    }
   ],
   "source": [
    "b = fit.predict(test.data)\n",
    "print('done')"
   ]
  },
  {
   "cell_type": "code",
   "execution_count": 33,
   "metadata": {},
   "outputs": [
    {
     "name": "stdout",
     "output_type": "stream",
     "text": [
      "[0, 0, 0, 0, 0, 0, 0, 0, 0, 0, 0, 0, 0, 0, 0, 0, 0, 0, 0, 0, 0, 0, 0, 0, 0, 0, 0, 0, 0, 0, 0, 0, 0, 0, 0, 0, 0, 0, 0, 0, 0, 0, 0, 0, 0, 0, 0, 0, 0, 0, 0, 0, 0, 0, 0, 0, 0, 0, 0, 0, 0, 0, 0, 0, 0, 0, 0, 0, 0, 0, 0, 0, 0, 0, 0, 0, 0, 0, 0, 0, 0, 0, 0, 0, 0, 0, 0, 0, 0, 0, 0, 0, 0, 0, 0, 0, 0, 0, 0, 0, 0, 0, 0, 0, 0, 0, 0, 0, 0, 0, 0, 0, 0, 0, 0, 0, 0, 0, 0, 0, 0, 0, 0, 0, 0, 0, 0, 0, 0, 0, 0, 0, 0, 0, 0, 0, 0, 0, 0, 0, 0, 0, 0, 0, 0, 0, 0, 0, 0, 0, 0, 0, 0, 0, 0, 0, 0, 0, 0, 0, 0, 0, 0, 0, 0, 0, 0, 0, 0, 0, 0, 0, 0, 0, 0, 0, 0, 0, 0, 0, 0, 0, 0, 0, 0, 0, 0, 0, 0, 0, 0, 0, 0, 0, 0, 0, 0, 0, 0, 0, 0, 0, 0, 0, 0, 0, 0, 0, 0, 0, 0, 0, 0, 0, 0, 0, 0, 0, 0, 0, 0, 0, 0, 0, 0, 0, 0, 0, 0, 0, 0, 0, 0, 0, 0, 0, 0, 0, 0, 0, 0, 0, 0, 0, 0, 0, 0, 0, 0, 0, 0, 0, 0, 0, 0, 0, 0, 0, 0, 0, 0, 0, 0, 0, 0, 0, 0, 0, 0, 0, 0, 0, 0, 0, 0, 0, 0, 0, 0, 0, 0, 0, 0, 0, 0, 0, 0, 0, 0, 0, 0, 0, 0, 0, 0, 0, 0, 0, 0, 0, 0, 0, 0, 0, 0, 0, 0, 0, 0, 0, 0, 0, 0, 0, 0, 0, 0, 0, 0, 0, 0, 0, 0, 0, 0, 0, 0, 0, 0, 0, 0, 0, 0, 0, 0, 0, 0, 0, 0, 0, 0, 0, 0, 0, 0, 0, 0, 0, 0, 0, 0, 0, 0, 0, 0, 0, 0, 0, 0, 0, 0, 0, 0, 0, 0, 0, 0, 0, 0, 0, 0, 0, 0, 0, 0, 0, 0, 0, 0, 0, 0, 0, 0, 0, 0, 0, 0, 0, 0, 0, 0, 0, 0, 0, 0, 0, 0, 0, 0, 0, 0, 0, 0, 0, 0, 0, 0, 0, 0, 0, 0, 0, 0, 0, 0, 0, 0, 0, 0, 0, 0, 0, 0, 0, 0, 0, 0, 0, 0, 0, 0, 0, 0, 0, 0, 0, 0, 0, 0, 0, 0, 0, 0, 0, 0, 0, 0, 0, 0, 0, 0, 0, 0, 0, 0, 0, 0, 0, 0, 0, 0, 0, 0, 0, 0, 0, 0, 0, 0, 0, 0, 0, 0, 0, 0, 0, 0, 0, 0, 0, 0, 0, 0, 0, 0, 0, 0, 0, 0, 0, 0, 0, 0, 0, 0, 0, 0, 0, 0, 0, 0, 0, 0, 0, 0, 0, 0, 0, 0, 0, 0, 0, 0, 0, 0, 0, 0, 0, 0, 0, 0, 0, 0, 0, 0, 0, 0, 0, 0, 0, 0, 0, 0, 0, 0, 0, 0, 0, 0, 0, 0, 0, 0, 0, 0, 0, 0, 0, 0, 0, 0, 0, 0, 0, 0, 0, 0, 0, 0, 0, 0, 0, 0, 0, 0, 0, 0, 0, 0, 0, 0, 0, 0, 0, 0, 0, 0, 0, 0, 0, 0, 0, 0, 0, 0, 0, 0, 0, 0, 0, 0, 0, 0, 0, 0, 0, 0, 0, 0, 0, 0, 0, 0, 0, 0, 0, 0, 0, 0, 0, 0, 0, 0, 0, 0, 0, 0, 0, 0, 0, 0, 0, 0, 0, 0, 0, 0, 0, 0, 0, 0, 0, 0, 0, 0, 0, 0, 0, 0, 0, 0, 0, 0, 0, 0, 0, 0, 0, 0, 0, 0, 0, 0, 0, 0, 0, 0, 0, 0, 0, 0, 0, 0, 0, 0, 0, 0, 0, 0, 0, 0, 0, 0, 0, 0, 0, 0, 0, 0, 0, 0, 0, 0, 0, 0, 0, 0, 0, 0, 0, 0, 0, 0, 0, 0, 0, 0, 0, 0, 0, 0, 0, 0, 0, 0, 0, 0, 0, 0, 0, 0, 0, 0, 0, 0, 0, 0, 0, 0, 0, 0, 0, 0, 0, 0, 0, 0, 0, 0, 0, 0, 0, 0, 0, 0, 0, 0, 0, 0, 0, 0, 0, 0, 0, 0, 0, 0, 0, 0, 0, 0, 0, 0, 0, 0, 0, 0, 0, 0, 0, 0, 0, 0, 0, 0, 0, 0, 0, 0, 0, 0, 0, 0, 0, 0, 0, 0, 0, 0, 0, 0, 0, 0, 0, 0, 0, 0, 0, 0, 0, 0, 0, 0, 0, 0, 0, 0, 0, 0, 0, 0, 0, 0, 0, 0, 0, 0, 0, 0, 0, 0, 0, 0, 0, 0, 0, 0, 0, 0, 0, 0, 0, 0, 0, 0, 0, 0, 0, 0, 0, 0, 0, 0, 0, 0, 0, 0, 0, 0, 0, 0, 0, 0, 0, 0, 0, 0, 0, 0, 0, 0, 0, 0, 0, 0, 0, 0, 0, 0, 0, 0, 0, 0, 0, 0, 0, 0, 0, 0, 0, 0, 0, 0, 0, 0, 0, 0, 0, 0, 0, 0, 0, 0, 0, 0, 0, 0, 0, 0, 0, 0, 0, 0, 0, 0, 0, 0, 0, 0, 0, 0, 0, 0, 0, 0, 0, 0, 0, 0, 0, 0, 0, 0, 0, 0, 0, 0, 0, 0, 0, 0, 0, 0, 0, 0, 0, 0, 0, 0, 0, 0, 0, 0, 0, 0, 0, 0, 0, 0, 0, 0, 0, 0, 0, 0, 0, 0, 0, 0, 0, 0, 0, 0, 0, 0, 0, 0, 0, 0, 0, 0, 0, 0, 0, 0, 0, 0, 0, 0, 0, 0, 0, 0, 0, 0, 0, 0, 0, 0, 0, 0, 0, 0, 0, 0, 0, 0, 0, 0, 0, 0, 0, 0, 0, 0, 0, 0, 0, 0, 0, 0, 0, 0, 0, 0, 0, 0, 0, 0, 0, 0, 0, 0, 0, 0, 0, 0, 0, 0, 0, 0, 0, 0, 0, 0, 0, 0, 0, 0, 0, 0, 0, 0, 0, 0, 0, 0, 0, 0, 0, 0, 0, 0, 0, 0, 0, 0, 0, 0, 0, 0, 0, 0, 0, 0, 0, 0, 0, 0, 0, 0, 0, 0, 0, 0, 0, 0, 0, 0, 0, 0, 0, 0, 0, 0, 0, 0, 0, 0, 0, 0, 0, 0, 0, 0, 0, 0, 0, 0, 0, 0, 0, 0, 0, 0, 0, 0, 0, 0, 0, 0, 0, 0, 0, 0, 0, 0, 0, 0, 0, 0, 0, 0, 0, 0, 0, 0, 0, 0, 0, 0, 0, 0, 0, 0, 0, 0, 0, 0, 0, 0, 0, 0, 0, 0, 0, 0, 0, 0, 0, 0, 0, 0, 0, 0, 0, 0, 0, 0, 0, 0, 0, 0, 0, 0, 0, 0, 0, 0, 0, 0, 0, 0, 0, 0, 0, 0, 0, 0, 0, 0, 0, 0, 0, 0, 0, 0, 0, 0, 0, 0, 0, 0, 0, 0, 0, 0, 0, 0, 0, 0, 0, 0, 0, 0, 0, 0, 0, 0, 0, 0, 0, 0, 0, 0, 0, 0, 0, 0, 0, 0, 0, 0, 0, 0, 0, 0, 0, 0, 0, 0, 0, 0, 0, 0, 0, 0, 0, 0, 0, 0, 0, 0, 0, 0, 0, 0, 0, 0, 0, 0, 0, 0, 0, 0, 0, 0, 0, 0, 0, 0, 0, 0, 0, 0, 0, 0, 0, 0, 0, 0, 0, 0, 0, 0, 0, 0, 0, 0, 0, 0, 0, 0, 0, 0, 0, 0, 0, 0, 0, 0, 0, 0, 0, 0, 0, 0, 0, 0, 0, 0, 0, 0, 0, 0, 0, 0, 0, 0, 0, 0, 0, 0, 0, 0, 0, 0, 0, 0, 0, 0, 0, 0, 0, 0, 0, 0, 0, 0, 0, 0, 0, 0, 0, 0, 0, 0, 0, 0, 0, 0, 0, 0, 0, 0, 0, 0, 0, 0, 0, 0, 0, 0, 0, 0, 0, 0, 0, 0, 0, 0, 0, 0, 0, 0, 0, 0, 0, 0, 0, 0, 0, 0, 0, 0, 0, 0, 0, 0, 0, 0, 0, 0, 0, 0, 0, 0, 0, 0, 0, 0, 0, 0, 0, 0, 0, 0, 0, 0, 0, 0, 0, 0, 0, 0, 0, 0, 0, 0, 0, 0, 0, 0, 0, 0, 0, 0, 0, 0, 0, 0, 0, 0, 0, 0, 0, 0, 0, 0, 0, 0, 0, 0, 0, 0, 0, 0, 0, 0, 0, 0, 0, 0, 0, 0, 0, 0, 0, 0, 0, 0, 0, 0, 0, 0, 0, 0, 0, 0, 0, 0, 0, 0, 0, 0, 0, 0, 0, 0, 0, 0, 0, 0, 0, 0, 0, 0, 0, 0, 0, 0, 0, 0, 0, 0, 0, 0, 0, 0, 0, 0, 0, 0, 0, 0, 0, 0, 0, 0, 0, 0, 0, 0, 0, 0, 0, 0, 0, 0, 0, 0, 0, 0, 0, 0, 0, 0, 0, 0, 0, 0, 0, 0, 0, 0, 0, 0, 0, 0, 0, 0, 0, 0, 0, 0, 0, 0, 0, 0, 0, 0, 0, 0, 0, 0, 0, 0, 0, 0, 0, 0, 0, 0, 0, 0, 0, 0, 0, 0, 0, 0, 0, 0, 0, 0, 0, 0, 0, 0, 0, 0, 0, 0, 0, 0, 0, 0, 0, 0, 0, 0, 0, 0, 0, 0, 0, 0, 0, 0, 0, 0, 0, 0, 0, 0, 0, 0, 0, 0, 0, 0, 0, 0, 0, 0, 0, 0, 0, 0, 0, 0, 0, 0, 0, 0, 0, 0, 0, 0, 0, 0, 0, 0, 0, 0, 0, 0, 0, 0, 0, 0, 0, 0, 0, 0, 0, 0, 0, 0, 0, 0, 0, 0, 0, 0, 0, 0, 0, 0, 0, 0, 0, 0, 0, 0, 0, 0, 0, 0, 0, 0, 0, 0, 0, 0, 0, 0, 0, 0, 0, 0, 0, 0, 0, 0, 0, 0, 0, 0, 0, 0, 0, 0, 0, 0, 0, 0, 0, 0, 0, 0, 0, 0, 0, 0, 0, 0, 0, 0, 0, 0, 0, 0, 0, 0, 0, 0, 0, 0, 0, 0, 0, 0, 0, 0, 0, 0, 0, 0, 0, 0, 0, 0, 0, 0, 0, 0, 0, 0, 0, 0, 0, 0, 0, 0, 0, 0, 0, 0, 0, 0, 0, 0, 0, 0, 0, 0, 0, 0, 0, 0, 0, 0, 0, 0, 0, 0, 0, 0, 0, 0, 0, 0, 0, 0, 0, 0, 0, 0, 0, 0, 0, 0, 0, 0, 0, 0, 0, 0, 0, 0, 0, 0, 0, 0, 0, 0, 0, 0, 0, 0, 0, 0, 0, 0, 0, 0, 0, 0, 0, 0, 0, 0, 0, 0, 0, 0, 0, 0, 0, 0, 0, 0, 0, 0, 0, 0, 0, 0, 0, 0, 0, 0, 0, 0, 0, 0, 0, 0, 0, 0, 0, 0, 0, 0, 0, 0, 0, 0, 0, 0, 0, 0, 0, 0, 0, 0, 0, 0, 0, 0, 0, 0, 0, 0, 0, 0, 0, 0, 0, 0, 0, 0, 0, 0, 0, 0, 0, 0, 0, 0, 0, 0, 0, 0, 0, 0, 0, 0, 0, 0, 0, 0, 0, 0, 0, 0, 0, 0, 0, 0, 0, 0, 0, 0, 0, 0, 0, 0, 0, 0, 0, 0, 0, 0, 0, 0, 0, 0, 0, 0, 0, 0, 0, 0, 0, 0, 0, 0, 0, 0, 0, 0, 0, 0, 0, 0, 0, 0, 0, 0, 0, 0, 0, 0, 0, 0, 0, 0, 0, 0, 0, 0, 0, 0, 0, 0, 0, 0, 0, 0, 0, 0, 0, 0, 0, 0, 0, 0, 0, 0, 0, 0, 0, 0, 0, 0, 0, 0, 0, 0, 0, 0, 0, 0, 0, 0, 0, 0, 0, 0, 0, 0, 0, 0, 0, 0, 0, 0, 0, 0, 0, 0, 0, 0, 0, 0, 0, 0, 0, 0, 0, 0, 0, 0, 0, 0, 0, 0, 0, 0, 0, 0, 0, 0, 0, 0, 0, 0, 0, 0, 0, 0, 0, 0, 0, 0, 0, 0, 0, 0, 0, 0, 0, 0, 0, 0, 0, 0, 0, 0, 0, 0, 0, 0, 0, 0, 0, 0, 0, 0, 0, 0, 0, 0, 0, 0, 0, 0, 0, 0, 0, 0, 0, 0, 0, 0, 0, 0, 0, 0, 0, 0, 0, 0, 0, 0, 0, 0, 0, 0, 0, 0, 0, 0, 0, 0, 0, 0, 0, 0, 0, 0, 0, 0, 0, 0, 0, 0, 0, 0, 0, 0, 0, 0, 0, 0, 0, 0, 0, 0, 0, 0, 0, 0, 0, 0, 0, 0, 0, 0, 0, 0, 0, 0, 0, 0, 0, 0, 0, 0, 0, 0, 0, 0, 0, 0, 0, 0, 0, 0, 0, 0, 0, 0, 0, 0, 0, 0, 0, 0, 0, 0, 0, 0, 0, 0, 0, 0, 0, 0, 0, 0, 0, 0, 0, 0, 0, 0, 0, 0, 0, 0, 0, 0, 0, 0, 0, 0, 0, 0, 0, 0, 0, 0, 0, 0, 0, 0, 0, 0, 0, 0, 0, 0, 0, 0, 0, 0, 0, 0, 0, 0, 0, 0, 0, 0, 0, 0, 0, 0, 0, 0, 0, 0, 0, 0, 0, 0, 0, 0, 0, 0, 0, 0, 0, 0, 0, 0, 0, 0, 0, 0, 0, 0, 0, 0, 0, 0, 0, 0, 0, 0, 0, 0, 0, 0, 0, 0, 0, 0, 0, 0, 0, 0, 0, 0, 0, 0, 0, 0, 0, 0, 0, 0, 0, 0, 0, 0, 0, 0, 0, 0, 0, 0, 0, 0, 0, 0, 0, 0, 0, 0, 0, 0, 0, 0, 0, 0, 0, 0, 0, 0, 0, 0, 0, 0, 0, 0, 0, 0, 0, 0, 0, 0, 0, 0, 0, 0, 0, 0, 0, 0, 0, 0, 0, 0, 0, 0, 0, 0, 0, 0, 0, 0, 0, 0, 0, 0, 0, 0, 0, 0, 0, 0, 0, 0, 0, 0, 0, 0, 0, 0, 0, 0, 0, 0, 0, 0, 0, 0, 0, 0, 0, 0, 0, 0, 0, 0, 0, 0, 0, 0, 0, 0, 0, 0, 0, 0, 0, 0, 0, 0, 0, 0, 0, 0, 0, 0, 0, 0, 0, 0, 0, 0, 0, 0, 0, 0, 0, 0, 0, 0, 0, 0, 0, 0, 0, 0, 0, 0, 0]\n"
     ]
    }
   ],
   "source": [
    "print([b[i] for i in range(len(b))])"
   ]
  },
  {
   "cell_type": "code",
   "execution_count": 14,
   "metadata": {},
   "outputs": [
    {
     "data": {
      "text/plain": [
       "2392"
      ]
     },
     "execution_count": 14,
     "metadata": {},
     "output_type": "execute_result"
    }
   ],
   "source": [
    "len(b)"
   ]
  },
  {
   "cell_type": "code",
   "execution_count": null,
   "metadata": {},
   "outputs": [],
   "source": []
  }
 ],
 "metadata": {
  "kernelspec": {
   "display_name": "Python 3",
   "language": "python",
   "name": "python3"
  },
  "language_info": {
   "codemirror_mode": {
    "name": "ipython",
    "version": 3
   },
   "file_extension": ".py",
   "mimetype": "text/x-python",
   "name": "python",
   "nbconvert_exporter": "python",
   "pygments_lexer": "ipython3",
   "version": "3.6.4"
  }
 },
 "nbformat": 4,
 "nbformat_minor": 2
}
