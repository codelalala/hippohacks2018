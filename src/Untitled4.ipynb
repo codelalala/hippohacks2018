{
 "cells": [
  {
   "cell_type": "code",
   "execution_count": 2,
   "metadata": {},
   "outputs": [
    {
     "name": "stdout",
     "output_type": "stream",
     "text": [
      "RGF: 0.07956576347351074 sec\n",
      "score: 0.875393160972304\n"
     ]
    },
    {
     "ename": "Exception",
     "evalue": "FastRGF estimators are unavailable for usage.",
     "output_type": "error",
     "traceback": [
      "\u001b[0;31m---------------------------------------------------------------------------\u001b[0m",
      "\u001b[0;31mException\u001b[0m                                 Traceback (most recent call last)",
      "\u001b[0;32m<ipython-input-2-47c9e17dd07d>\u001b[0m in \u001b[0;36m<module>\u001b[0;34m()\u001b[0m\n\u001b[1;32m     26\u001b[0m \u001b[0;34m\u001b[0m\u001b[0m\n\u001b[1;32m     27\u001b[0m \u001b[0mstart\u001b[0m \u001b[0;34m=\u001b[0m \u001b[0mtime\u001b[0m\u001b[0;34m.\u001b[0m\u001b[0mtime\u001b[0m\u001b[0;34m(\u001b[0m\u001b[0;34m)\u001b[0m\u001b[0;34m\u001b[0m\u001b[0m\n\u001b[0;32m---> 28\u001b[0;31m \u001b[0mreg\u001b[0m \u001b[0;34m=\u001b[0m \u001b[0mFastRGFRegressor\u001b[0m\u001b[0;34m(\u001b[0m\u001b[0;34m)\u001b[0m\u001b[0;34m\u001b[0m\u001b[0m\n\u001b[0m\u001b[1;32m     29\u001b[0m \u001b[0mreg\u001b[0m\u001b[0;34m.\u001b[0m\u001b[0mfit\u001b[0m\u001b[0;34m(\u001b[0m\u001b[0mtrain_x\u001b[0m\u001b[0;34m,\u001b[0m \u001b[0mtrain_y\u001b[0m\u001b[0;34m)\u001b[0m\u001b[0;34m\u001b[0m\u001b[0m\n\u001b[1;32m     30\u001b[0m \u001b[0mscore\u001b[0m \u001b[0;34m=\u001b[0m \u001b[0mreg\u001b[0m\u001b[0;34m.\u001b[0m\u001b[0mscore\u001b[0m\u001b[0;34m(\u001b[0m\u001b[0mtest_x\u001b[0m\u001b[0;34m,\u001b[0m \u001b[0mtest_y\u001b[0m\u001b[0;34m)\u001b[0m\u001b[0;34m\u001b[0m\u001b[0m\n",
      "\u001b[0;32m/opt/anaconda/lib/python3.6/site-packages/rgf/fastrgf_model.py\u001b[0m in \u001b[0;36m__init__\u001b[0;34m(self, n_estimators, max_depth, max_leaf, tree_gain_ratio, min_samples_leaf, l1, l2, opt_algorithm, learning_rate, max_bin, min_child_weight, data_l2, sparse_max_features, sparse_min_occurences, n_jobs, verbose)\u001b[0m\n\u001b[1;32m    250\u001b[0m                  verbose=0):\n\u001b[1;32m    251\u001b[0m         \u001b[0;32mif\u001b[0m \u001b[0;32mnot\u001b[0m \u001b[0mutils\u001b[0m\u001b[0;34m.\u001b[0m\u001b[0mFASTRGF_AVAILABLE\u001b[0m\u001b[0;34m:\u001b[0m\u001b[0;34m\u001b[0m\u001b[0m\n\u001b[0;32m--> 252\u001b[0;31m             \u001b[0;32mraise\u001b[0m \u001b[0mException\u001b[0m\u001b[0;34m(\u001b[0m\u001b[0;34m'FastRGF estimators are unavailable for usage.'\u001b[0m\u001b[0;34m)\u001b[0m\u001b[0;34m\u001b[0m\u001b[0m\n\u001b[0m\u001b[1;32m    253\u001b[0m         \u001b[0mself\u001b[0m\u001b[0;34m.\u001b[0m\u001b[0mn_estimators\u001b[0m \u001b[0;34m=\u001b[0m \u001b[0mn_estimators\u001b[0m\u001b[0;34m\u001b[0m\u001b[0m\n\u001b[1;32m    254\u001b[0m         \u001b[0mself\u001b[0m\u001b[0;34m.\u001b[0m\u001b[0mmax_depth\u001b[0m \u001b[0;34m=\u001b[0m \u001b[0mmax_depth\u001b[0m\u001b[0;34m\u001b[0m\u001b[0m\n",
      "\u001b[0;31mException\u001b[0m: FastRGF estimators are unavailable for usage."
     ]
    }
   ],
   "source": [
    "import time\n",
    "\n",
    "from sklearn.datasets import load_boston\n",
    "from sklearn.utils.validation import check_random_state\n",
    "from sklearn.ensemble import RandomForestRegressor\n",
    "from rgf.sklearn import FastRGFRegressor, RGFRegressor\n",
    "\n",
    "boston = load_boston()\n",
    "rng = check_random_state(42)\n",
    "perm = rng.permutation(boston.target.size)\n",
    "boston.data = boston.data[perm]\n",
    "boston.target = boston.target[perm]\n",
    "\n",
    "train_x = boston.data[:300]\n",
    "test_x = boston.data[300:]\n",
    "train_y = boston.target[:300]\n",
    "test_y = boston.target[300:]\n",
    "\n",
    "start = time.time()\n",
    "reg = RGFRegressor()\n",
    "reg.fit(train_x, train_y)\n",
    "score = reg.score(test_x, test_y)\n",
    "end = time.time()\n",
    "print(\"RGF: {} sec\".format(end - start))\n",
    "print(\"score: {}\".format(score))\n",
    "\n",
    "start = time.time()\n",
    "reg = FastRGFRegressor()\n",
    "reg.fit(train_x, train_y)\n",
    "score = reg.score(test_x, test_y)\n",
    "end = time.time()\n",
    "print(\"FastRGF: {} sec\".format(end - start))\n",
    "print(\"score: {}\".format(score))\n",
    "\n",
    "start = time.time()\n",
    "reg = RandomForestRegressor()\n",
    "reg.fit(train_x, train_y)\n",
    "score = reg.score(test_x, test_y)\n",
    "end = time.time()\n",
    "print(\"Random Forest: {} sec\".format(end - start))\n",
    "print(\"score: {}\".format(score))"
   ]
  },
  {
   "cell_type": "code",
   "execution_count": null,
   "metadata": {},
   "outputs": [],
   "source": []
  }
 ],
 "metadata": {
  "kernelspec": {
   "display_name": "Python 3",
   "language": "python",
   "name": "python3"
  },
  "language_info": {
   "codemirror_mode": {
    "name": "ipython",
    "version": 3
   },
   "file_extension": ".py",
   "mimetype": "text/x-python",
   "name": "python",
   "nbconvert_exporter": "python",
   "pygments_lexer": "ipython3",
   "version": "3.6.4"
  }
 },
 "nbformat": 4,
 "nbformat_minor": 2
}
